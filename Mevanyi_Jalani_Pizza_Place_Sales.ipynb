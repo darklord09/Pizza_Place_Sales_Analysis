{
 "cells": [
  {
   "cell_type": "markdown",
   "id": "2fc19067",
   "metadata": {},
   "source": [
    "# Pizza Place Sales — Complete Analysis\n",
    "\n",
    "This notebook performs a full analysis of the `Pizza+Place+Sales.zip` dataset. It loads the four CSV files (Orders, Order Details, Pizzas, Pizza Types), merges them into a single line-level dataframe, performs cleaning and validation, and answers the recommended questions with charts and explanations.\n",
    "\n",
    "**Sections:**\n",
    "1. Load data\n",
    "2. Data inspection & cleaning\n",
    "3. Merge tables\n",
    "4. Feature engineering (datetime, revenue)\n",
    "5. Core metrics (revenue, quantities, orders, price)\n",
    "6. Time-based analysis (hourly, weekday, monthly)\n",
    "7. Top pizzas and underperforming types\n",
    "8. Additional explorations (heatmap, price distribution)\n",
    "9. Conclusions & next steps\n",
    "\n",
    "The notebook saves key plots to `pizza_plots/`."
   ]
  },
  {
   "cell_type": "code",
   "execution_count": 1,
   "id": "123e35da",
   "metadata": {},
   "outputs": [],
   "source": [
    "\n",
    "# Imports and helper functions\n",
    "import pandas as pd\n",
    "import numpy as np\n",
    "import matplotlib.pyplot as plt\n",
    "from pathlib import Path\n",
    "import os\n",
    "from IPython.display import display, Markdown\n",
    "\n",
    "plt.rcParams['figure.figsize'] = (10,5)\n",
    "\n",
    "DATA_DIR = Path(r'C:\\Users\\Jalani.Mevanyi\\Music\\Tech_Crush_Ass\\Task 3\\Pizza_Place_Sales_full_package\\data')\n",
    "OUT_PLOTS = Path(r'C:\\Users\\Jalani.Mevanyi\\Music\\Tech_Crush_Ass\\Task 3\\Pizza_Place_Sales_full_package\\plots')\n",
    "OUT_PLOTS.mkdir(parents=True, exist_ok=True)\n",
    "\n",
    "def read_csv_flexible(path):\n",
    "    # Read CSV trying multiple encodings and a fallback to replace errors.\n",
    "    encodings = ['utf-8', 'latin1', 'cp1252']\n",
    "    for enc in encodings:\n",
    "        try:\n",
    "            return pd.read_csv(path, encoding=enc, low_memory=False)\n",
    "        except Exception:\n",
    "            pass\n",
    "    # fallback: read bytes and decode with replacement\n",
    "    raw = Path(path).read_bytes()\n",
    "    text = raw.decode('utf-8', errors='replace')\n",
    "    from io import StringIO\n",
    "    return pd.read_csv(StringIO(text))\n"
   ]
  },
  {
   "cell_type": "code",
   "execution_count": 2,
   "id": "26c918b5",
   "metadata": {},
   "outputs": [
    {
     "name": "stdout",
     "output_type": "stream",
     "text": [
      "Shapes: orders (21350, 3) details (48620, 4) pizzas (96, 4) types (32, 4)\n"
     ]
    }
   ],
   "source": [
    "\n",
    "# Load the four CSVs\n",
    "orders = read_csv_flexible(DATA_DIR / 'orders.csv')\n",
    "details = read_csv_flexible(DATA_DIR / 'order_details.csv')\n",
    "pizzas = read_csv_flexible(DATA_DIR / 'pizzas.csv')\n",
    "types = read_csv_flexible(DATA_DIR / 'pizza_types.csv')\n",
    "data_dictionary = read_csv_flexible(Path(r'C:\\Users\\Jalani.Mevanyi\\Music\\Tech_Crush_Ass\\Task 3\\Pizza_Place_Sales_full_package\\data') / 'data_dictionary.csv')\n",
    "\n",
    "# Normalize column names\n",
    "for df in [orders, details, pizzas, types, data_dictionary]:\n",
    "    df.columns = [c.strip().lower().replace(' ', '_') for c in df.columns]\n",
    "\n",
    "print('Shapes: orders', orders.shape, 'details', details.shape, 'pizzas', pizzas.shape, 'types', types.shape)\n"
   ]
  },
  {
   "cell_type": "markdown",
   "id": "510358a9",
   "metadata": {},
   "source": [
    "## Data dictionary and sample rows\n",
    "\n",
    "Below we display the data dictionary and the first few rows of each table to understand the schema."
   ]
  },
  {
   "cell_type": "code",
   "execution_count": 3,
   "id": "da3433ee",
   "metadata": {},
   "outputs": [
    {
     "data": {
      "text/html": [
       "<div>\n",
       "<style scoped>\n",
       "    .dataframe tbody tr th:only-of-type {\n",
       "        vertical-align: middle;\n",
       "    }\n",
       "\n",
       "    .dataframe tbody tr th {\n",
       "        vertical-align: top;\n",
       "    }\n",
       "\n",
       "    .dataframe thead th {\n",
       "        text-align: right;\n",
       "    }\n",
       "</style>\n",
       "<table border=\"1\" class=\"dataframe\">\n",
       "  <thead>\n",
       "    <tr style=\"text-align: right;\">\n",
       "      <th></th>\n",
       "      <th>table</th>\n",
       "      <th>field</th>\n",
       "      <th>description</th>\n",
       "    </tr>\n",
       "  </thead>\n",
       "  <tbody>\n",
       "    <tr>\n",
       "      <th>0</th>\n",
       "      <td>orders</td>\n",
       "      <td>order_id</td>\n",
       "      <td>Unique identifier for each order placed by a t...</td>\n",
       "    </tr>\n",
       "    <tr>\n",
       "      <th>1</th>\n",
       "      <td>orders</td>\n",
       "      <td>date</td>\n",
       "      <td>Date the order was placed (entered into the sy...</td>\n",
       "    </tr>\n",
       "    <tr>\n",
       "      <th>2</th>\n",
       "      <td>orders</td>\n",
       "      <td>time</td>\n",
       "      <td>Time the order was placed (entered into the sy...</td>\n",
       "    </tr>\n",
       "    <tr>\n",
       "      <th>3</th>\n",
       "      <td>order_details</td>\n",
       "      <td>order_details_id</td>\n",
       "      <td>Unique identifier for each pizza placed within...</td>\n",
       "    </tr>\n",
       "    <tr>\n",
       "      <th>4</th>\n",
       "      <td>order_details</td>\n",
       "      <td>order_id</td>\n",
       "      <td>Foreign key that ties the details in each orde...</td>\n",
       "    </tr>\n",
       "    <tr>\n",
       "      <th>5</th>\n",
       "      <td>order_details</td>\n",
       "      <td>pizza_id</td>\n",
       "      <td>Foreign key that ties the pizza ordered to its...</td>\n",
       "    </tr>\n",
       "    <tr>\n",
       "      <th>6</th>\n",
       "      <td>order_details</td>\n",
       "      <td>quantity</td>\n",
       "      <td>Quantity ordered for each pizza of the same ty...</td>\n",
       "    </tr>\n",
       "    <tr>\n",
       "      <th>7</th>\n",
       "      <td>pizzas</td>\n",
       "      <td>pizza_id</td>\n",
       "      <td>Unique identifier for each pizza (constituted ...</td>\n",
       "    </tr>\n",
       "    <tr>\n",
       "      <th>8</th>\n",
       "      <td>pizzas</td>\n",
       "      <td>pizza_type_id</td>\n",
       "      <td>Foreign key that ties each pizza to its broade...</td>\n",
       "    </tr>\n",
       "    <tr>\n",
       "      <th>9</th>\n",
       "      <td>pizzas</td>\n",
       "      <td>size</td>\n",
       "      <td>Size of the pizza (Small, Medium, Large, X Lar...</td>\n",
       "    </tr>\n",
       "    <tr>\n",
       "      <th>10</th>\n",
       "      <td>pizzas</td>\n",
       "      <td>price</td>\n",
       "      <td>Price of the pizza in USD</td>\n",
       "    </tr>\n",
       "    <tr>\n",
       "      <th>11</th>\n",
       "      <td>pizza_types</td>\n",
       "      <td>pizza_type_id</td>\n",
       "      <td>Unique identifier for each pizza type</td>\n",
       "    </tr>\n",
       "    <tr>\n",
       "      <th>12</th>\n",
       "      <td>pizza_types</td>\n",
       "      <td>name</td>\n",
       "      <td>Name of the pizza as shown in the menu</td>\n",
       "    </tr>\n",
       "    <tr>\n",
       "      <th>13</th>\n",
       "      <td>pizza_types</td>\n",
       "      <td>category</td>\n",
       "      <td>Category that the pizza fall under in the menu...</td>\n",
       "    </tr>\n",
       "    <tr>\n",
       "      <th>14</th>\n",
       "      <td>pizza_types</td>\n",
       "      <td>ingredients</td>\n",
       "      <td>Comma-delimited ingredients used in the pizza ...</td>\n",
       "    </tr>\n",
       "  </tbody>\n",
       "</table>\n",
       "</div>"
      ],
      "text/plain": [
       "            table             field  \\\n",
       "0          orders          order_id   \n",
       "1          orders              date   \n",
       "2          orders              time   \n",
       "3   order_details  order_details_id   \n",
       "4   order_details          order_id   \n",
       "5   order_details          pizza_id   \n",
       "6   order_details          quantity   \n",
       "7          pizzas          pizza_id   \n",
       "8          pizzas     pizza_type_id   \n",
       "9          pizzas              size   \n",
       "10         pizzas             price   \n",
       "11    pizza_types     pizza_type_id   \n",
       "12    pizza_types              name   \n",
       "13    pizza_types          category   \n",
       "14    pizza_types       ingredients   \n",
       "\n",
       "                                          description  \n",
       "0   Unique identifier for each order placed by a t...  \n",
       "1   Date the order was placed (entered into the sy...  \n",
       "2   Time the order was placed (entered into the sy...  \n",
       "3   Unique identifier for each pizza placed within...  \n",
       "4   Foreign key that ties the details in each orde...  \n",
       "5   Foreign key that ties the pizza ordered to its...  \n",
       "6   Quantity ordered for each pizza of the same ty...  \n",
       "7   Unique identifier for each pizza (constituted ...  \n",
       "8   Foreign key that ties each pizza to its broade...  \n",
       "9   Size of the pizza (Small, Medium, Large, X Lar...  \n",
       "10                          Price of the pizza in USD  \n",
       "11              Unique identifier for each pizza type  \n",
       "12             Name of the pizza as shown in the menu  \n",
       "13  Category that the pizza fall under in the menu...  \n",
       "14  Comma-delimited ingredients used in the pizza ...  "
      ]
     },
     "metadata": {},
     "output_type": "display_data"
    },
    {
     "name": "stdout",
     "output_type": "stream",
     "text": [
      "\n",
      "--- Orders sample ---\n"
     ]
    },
    {
     "data": {
      "text/html": [
       "<div>\n",
       "<style scoped>\n",
       "    .dataframe tbody tr th:only-of-type {\n",
       "        vertical-align: middle;\n",
       "    }\n",
       "\n",
       "    .dataframe tbody tr th {\n",
       "        vertical-align: top;\n",
       "    }\n",
       "\n",
       "    .dataframe thead th {\n",
       "        text-align: right;\n",
       "    }\n",
       "</style>\n",
       "<table border=\"1\" class=\"dataframe\">\n",
       "  <thead>\n",
       "    <tr style=\"text-align: right;\">\n",
       "      <th></th>\n",
       "      <th>order_id</th>\n",
       "      <th>date</th>\n",
       "      <th>time</th>\n",
       "    </tr>\n",
       "  </thead>\n",
       "  <tbody>\n",
       "    <tr>\n",
       "      <th>0</th>\n",
       "      <td>1</td>\n",
       "      <td>2015-01-01</td>\n",
       "      <td>11:38:36</td>\n",
       "    </tr>\n",
       "    <tr>\n",
       "      <th>1</th>\n",
       "      <td>2</td>\n",
       "      <td>2015-01-01</td>\n",
       "      <td>11:57:40</td>\n",
       "    </tr>\n",
       "    <tr>\n",
       "      <th>2</th>\n",
       "      <td>3</td>\n",
       "      <td>2015-01-01</td>\n",
       "      <td>12:12:28</td>\n",
       "    </tr>\n",
       "    <tr>\n",
       "      <th>3</th>\n",
       "      <td>4</td>\n",
       "      <td>2015-01-01</td>\n",
       "      <td>12:16:31</td>\n",
       "    </tr>\n",
       "    <tr>\n",
       "      <th>4</th>\n",
       "      <td>5</td>\n",
       "      <td>2015-01-01</td>\n",
       "      <td>12:21:30</td>\n",
       "    </tr>\n",
       "  </tbody>\n",
       "</table>\n",
       "</div>"
      ],
      "text/plain": [
       "   order_id        date      time\n",
       "0         1  2015-01-01  11:38:36\n",
       "1         2  2015-01-01  11:57:40\n",
       "2         3  2015-01-01  12:12:28\n",
       "3         4  2015-01-01  12:16:31\n",
       "4         5  2015-01-01  12:21:30"
      ]
     },
     "metadata": {},
     "output_type": "display_data"
    },
    {
     "name": "stdout",
     "output_type": "stream",
     "text": [
      "\n",
      "--- Order details sample ---\n"
     ]
    },
    {
     "data": {
      "text/html": [
       "<div>\n",
       "<style scoped>\n",
       "    .dataframe tbody tr th:only-of-type {\n",
       "        vertical-align: middle;\n",
       "    }\n",
       "\n",
       "    .dataframe tbody tr th {\n",
       "        vertical-align: top;\n",
       "    }\n",
       "\n",
       "    .dataframe thead th {\n",
       "        text-align: right;\n",
       "    }\n",
       "</style>\n",
       "<table border=\"1\" class=\"dataframe\">\n",
       "  <thead>\n",
       "    <tr style=\"text-align: right;\">\n",
       "      <th></th>\n",
       "      <th>order_details_id</th>\n",
       "      <th>order_id</th>\n",
       "      <th>pizza_id</th>\n",
       "      <th>quantity</th>\n",
       "    </tr>\n",
       "  </thead>\n",
       "  <tbody>\n",
       "    <tr>\n",
       "      <th>0</th>\n",
       "      <td>1</td>\n",
       "      <td>1</td>\n",
       "      <td>hawaiian_m</td>\n",
       "      <td>1</td>\n",
       "    </tr>\n",
       "    <tr>\n",
       "      <th>1</th>\n",
       "      <td>2</td>\n",
       "      <td>2</td>\n",
       "      <td>classic_dlx_m</td>\n",
       "      <td>1</td>\n",
       "    </tr>\n",
       "    <tr>\n",
       "      <th>2</th>\n",
       "      <td>3</td>\n",
       "      <td>2</td>\n",
       "      <td>five_cheese_l</td>\n",
       "      <td>1</td>\n",
       "    </tr>\n",
       "    <tr>\n",
       "      <th>3</th>\n",
       "      <td>4</td>\n",
       "      <td>2</td>\n",
       "      <td>ital_supr_l</td>\n",
       "      <td>1</td>\n",
       "    </tr>\n",
       "    <tr>\n",
       "      <th>4</th>\n",
       "      <td>5</td>\n",
       "      <td>2</td>\n",
       "      <td>mexicana_m</td>\n",
       "      <td>1</td>\n",
       "    </tr>\n",
       "  </tbody>\n",
       "</table>\n",
       "</div>"
      ],
      "text/plain": [
       "   order_details_id  order_id       pizza_id  quantity\n",
       "0                 1         1     hawaiian_m         1\n",
       "1                 2         2  classic_dlx_m         1\n",
       "2                 3         2  five_cheese_l         1\n",
       "3                 4         2    ital_supr_l         1\n",
       "4                 5         2     mexicana_m         1"
      ]
     },
     "metadata": {},
     "output_type": "display_data"
    },
    {
     "name": "stdout",
     "output_type": "stream",
     "text": [
      "\n",
      "--- Pizzas sample ---\n"
     ]
    },
    {
     "data": {
      "text/html": [
       "<div>\n",
       "<style scoped>\n",
       "    .dataframe tbody tr th:only-of-type {\n",
       "        vertical-align: middle;\n",
       "    }\n",
       "\n",
       "    .dataframe tbody tr th {\n",
       "        vertical-align: top;\n",
       "    }\n",
       "\n",
       "    .dataframe thead th {\n",
       "        text-align: right;\n",
       "    }\n",
       "</style>\n",
       "<table border=\"1\" class=\"dataframe\">\n",
       "  <thead>\n",
       "    <tr style=\"text-align: right;\">\n",
       "      <th></th>\n",
       "      <th>pizza_id</th>\n",
       "      <th>pizza_type_id</th>\n",
       "      <th>size</th>\n",
       "      <th>price</th>\n",
       "    </tr>\n",
       "  </thead>\n",
       "  <tbody>\n",
       "    <tr>\n",
       "      <th>0</th>\n",
       "      <td>bbq_ckn_s</td>\n",
       "      <td>bbq_ckn</td>\n",
       "      <td>S</td>\n",
       "      <td>12.75</td>\n",
       "    </tr>\n",
       "    <tr>\n",
       "      <th>1</th>\n",
       "      <td>bbq_ckn_m</td>\n",
       "      <td>bbq_ckn</td>\n",
       "      <td>M</td>\n",
       "      <td>16.75</td>\n",
       "    </tr>\n",
       "    <tr>\n",
       "      <th>2</th>\n",
       "      <td>bbq_ckn_l</td>\n",
       "      <td>bbq_ckn</td>\n",
       "      <td>L</td>\n",
       "      <td>20.75</td>\n",
       "    </tr>\n",
       "    <tr>\n",
       "      <th>3</th>\n",
       "      <td>cali_ckn_s</td>\n",
       "      <td>cali_ckn</td>\n",
       "      <td>S</td>\n",
       "      <td>12.75</td>\n",
       "    </tr>\n",
       "    <tr>\n",
       "      <th>4</th>\n",
       "      <td>cali_ckn_m</td>\n",
       "      <td>cali_ckn</td>\n",
       "      <td>M</td>\n",
       "      <td>16.75</td>\n",
       "    </tr>\n",
       "  </tbody>\n",
       "</table>\n",
       "</div>"
      ],
      "text/plain": [
       "     pizza_id pizza_type_id size  price\n",
       "0   bbq_ckn_s       bbq_ckn    S  12.75\n",
       "1   bbq_ckn_m       bbq_ckn    M  16.75\n",
       "2   bbq_ckn_l       bbq_ckn    L  20.75\n",
       "3  cali_ckn_s      cali_ckn    S  12.75\n",
       "4  cali_ckn_m      cali_ckn    M  16.75"
      ]
     },
     "metadata": {},
     "output_type": "display_data"
    },
    {
     "name": "stdout",
     "output_type": "stream",
     "text": [
      "\n",
      "--- Pizza types sample ---\n"
     ]
    },
    {
     "data": {
      "text/html": [
       "<div>\n",
       "<style scoped>\n",
       "    .dataframe tbody tr th:only-of-type {\n",
       "        vertical-align: middle;\n",
       "    }\n",
       "\n",
       "    .dataframe tbody tr th {\n",
       "        vertical-align: top;\n",
       "    }\n",
       "\n",
       "    .dataframe thead th {\n",
       "        text-align: right;\n",
       "    }\n",
       "</style>\n",
       "<table border=\"1\" class=\"dataframe\">\n",
       "  <thead>\n",
       "    <tr style=\"text-align: right;\">\n",
       "      <th></th>\n",
       "      <th>pizza_type_id</th>\n",
       "      <th>name</th>\n",
       "      <th>category</th>\n",
       "      <th>ingredients</th>\n",
       "    </tr>\n",
       "  </thead>\n",
       "  <tbody>\n",
       "    <tr>\n",
       "      <th>0</th>\n",
       "      <td>bbq_ckn</td>\n",
       "      <td>The Barbecue Chicken Pizza</td>\n",
       "      <td>Chicken</td>\n",
       "      <td>Barbecued Chicken, Red Peppers, Green Peppers,...</td>\n",
       "    </tr>\n",
       "    <tr>\n",
       "      <th>1</th>\n",
       "      <td>cali_ckn</td>\n",
       "      <td>The California Chicken Pizza</td>\n",
       "      <td>Chicken</td>\n",
       "      <td>Chicken, Artichoke, Spinach, Garlic, Jalapeno ...</td>\n",
       "    </tr>\n",
       "    <tr>\n",
       "      <th>2</th>\n",
       "      <td>ckn_alfredo</td>\n",
       "      <td>The Chicken Alfredo Pizza</td>\n",
       "      <td>Chicken</td>\n",
       "      <td>Chicken, Red Onions, Red Peppers, Mushrooms, A...</td>\n",
       "    </tr>\n",
       "    <tr>\n",
       "      <th>3</th>\n",
       "      <td>ckn_pesto</td>\n",
       "      <td>The Chicken Pesto Pizza</td>\n",
       "      <td>Chicken</td>\n",
       "      <td>Chicken, Tomatoes, Red Peppers, Spinach, Garli...</td>\n",
       "    </tr>\n",
       "    <tr>\n",
       "      <th>4</th>\n",
       "      <td>southw_ckn</td>\n",
       "      <td>The Southwest Chicken Pizza</td>\n",
       "      <td>Chicken</td>\n",
       "      <td>Chicken, Tomatoes, Red Peppers, Red Onions, Ja...</td>\n",
       "    </tr>\n",
       "  </tbody>\n",
       "</table>\n",
       "</div>"
      ],
      "text/plain": [
       "  pizza_type_id                          name category  \\\n",
       "0       bbq_ckn    The Barbecue Chicken Pizza  Chicken   \n",
       "1      cali_ckn  The California Chicken Pizza  Chicken   \n",
       "2   ckn_alfredo     The Chicken Alfredo Pizza  Chicken   \n",
       "3     ckn_pesto       The Chicken Pesto Pizza  Chicken   \n",
       "4    southw_ckn   The Southwest Chicken Pizza  Chicken   \n",
       "\n",
       "                                         ingredients  \n",
       "0  Barbecued Chicken, Red Peppers, Green Peppers,...  \n",
       "1  Chicken, Artichoke, Spinach, Garlic, Jalapeno ...  \n",
       "2  Chicken, Red Onions, Red Peppers, Mushrooms, A...  \n",
       "3  Chicken, Tomatoes, Red Peppers, Spinach, Garli...  \n",
       "4  Chicken, Tomatoes, Red Peppers, Red Onions, Ja...  "
      ]
     },
     "metadata": {},
     "output_type": "display_data"
    }
   ],
   "source": [
    "\n",
    "display(data_dictionary.head(50))\n",
    "print('\\n--- Orders sample ---')\n",
    "display(orders.head())\n",
    "print('\\n--- Order details sample ---')\n",
    "display(details.head())\n",
    "print('\\n--- Pizzas sample ---')\n",
    "display(pizzas.head())\n",
    "print('\\n--- Pizza types sample ---')\n",
    "display(types.head())\n"
   ]
  },
  {
   "cell_type": "markdown",
   "id": "eabe3e3b",
   "metadata": {},
   "source": [
    "## Data checks and basic cleaning\n",
    "We validate key columns, check for nulls, duplicates, and ensure numeric types for price and quantity."
   ]
  },
  {
   "cell_type": "code",
   "execution_count": 4,
   "id": "19ed1a11",
   "metadata": {},
   "outputs": [
    {
     "name": "stdout",
     "output_type": "stream",
     "text": [
      "orders: rows=21350, cols=3 | nulls per column:\n",
      " order_id    0\n",
      "date        0\n",
      "time        0\n",
      "dtype: int64 \n",
      "\n",
      "details: rows=48620, cols=4 | nulls per column:\n",
      " order_details_id    0\n",
      "order_id            0\n",
      "pizza_id            0\n",
      "quantity            0\n",
      "dtype: int64 \n",
      "\n",
      "pizzas: rows=96, cols=4 | nulls per column:\n",
      " pizza_id         0\n",
      "pizza_type_id    0\n",
      "size             0\n",
      "price            0\n",
      "dtype: int64 \n",
      "\n",
      "types: rows=32, cols=4 | nulls per column:\n",
      " pizza_type_id    0\n",
      "name             0\n",
      "category         0\n",
      "ingredients      0\n",
      "dtype: int64 \n",
      "\n",
      "Duplicate line-items in order details: 0\n",
      "Detected key columns: {'order_id': 'order_id', 'details_order_id': 'order_id', 'pizza_id': 'pizza_id', 'details_pizza_id': 'pizza_id'}\n"
     ]
    }
   ],
   "source": [
    "\n",
    "# Basic checks\n",
    "for name, df in [('orders', orders), ('details', details), ('pizzas', pizzas), ('types', types)]:\n",
    "    print(f\"{name}: rows={df.shape[0]}, cols={df.shape[1]} | nulls per column:\\n\", df.isnull().sum(), '\\n')\n",
    "\n",
    "# Check duplicates in details (line items)\n",
    "print('Duplicate line-items in order details:', details.duplicated().sum())\n",
    "\n",
    "# Ensure key columns exist\n",
    "key_cols = {\n",
    "    'order_id': 'order_id' if 'order_id' in orders.columns else None,\n",
    "    'details_order_id': 'order_id' if 'order_id' in details.columns else None,\n",
    "    'pizza_id': 'pizza_id' if 'pizza_id' in pizzas.columns else None,\n",
    "    'details_pizza_id': 'pizza_id' if 'pizza_id' in details.columns else None\n",
    "}\n",
    "print('Detected key columns:', key_cols)\n"
   ]
  },
  {
   "cell_type": "markdown",
   "id": "6e555e15",
   "metadata": {},
   "source": [
    "## Merge tables into a single line-level dataframe\n",
    "We start from `order_details` (one row per pizza in an order) and left-join pizzas, types, and orders to enrich each row."
   ]
  },
  {
   "cell_type": "code",
   "execution_count": 5,
   "id": "c0e3f79a",
   "metadata": {},
   "outputs": [
    {
     "name": "stdout",
     "output_type": "stream",
     "text": [
      "Merged df shape: (48620, 12)\n"
     ]
    },
    {
     "data": {
      "text/html": [
       "<div>\n",
       "<style scoped>\n",
       "    .dataframe tbody tr th:only-of-type {\n",
       "        vertical-align: middle;\n",
       "    }\n",
       "\n",
       "    .dataframe tbody tr th {\n",
       "        vertical-align: top;\n",
       "    }\n",
       "\n",
       "    .dataframe thead th {\n",
       "        text-align: right;\n",
       "    }\n",
       "</style>\n",
       "<table border=\"1\" class=\"dataframe\">\n",
       "  <thead>\n",
       "    <tr style=\"text-align: right;\">\n",
       "      <th></th>\n",
       "      <th>order_details_id</th>\n",
       "      <th>order_id</th>\n",
       "      <th>pizza_id</th>\n",
       "      <th>quantity</th>\n",
       "      <th>pizza_type_id</th>\n",
       "      <th>size</th>\n",
       "      <th>price</th>\n",
       "      <th>name</th>\n",
       "      <th>category</th>\n",
       "      <th>ingredients</th>\n",
       "      <th>date</th>\n",
       "      <th>time</th>\n",
       "    </tr>\n",
       "  </thead>\n",
       "  <tbody>\n",
       "    <tr>\n",
       "      <th>0</th>\n",
       "      <td>1</td>\n",
       "      <td>1</td>\n",
       "      <td>hawaiian_m</td>\n",
       "      <td>1</td>\n",
       "      <td>hawaiian</td>\n",
       "      <td>M</td>\n",
       "      <td>13.25</td>\n",
       "      <td>The Hawaiian Pizza</td>\n",
       "      <td>Classic</td>\n",
       "      <td>Sliced Ham, Pineapple, Mozzarella Cheese</td>\n",
       "      <td>2015-01-01</td>\n",
       "      <td>11:38:36</td>\n",
       "    </tr>\n",
       "    <tr>\n",
       "      <th>1</th>\n",
       "      <td>2</td>\n",
       "      <td>2</td>\n",
       "      <td>classic_dlx_m</td>\n",
       "      <td>1</td>\n",
       "      <td>classic_dlx</td>\n",
       "      <td>M</td>\n",
       "      <td>16.00</td>\n",
       "      <td>The Classic Deluxe Pizza</td>\n",
       "      <td>Classic</td>\n",
       "      <td>Pepperoni, Mushrooms, Red Onions, Red Peppers,...</td>\n",
       "      <td>2015-01-01</td>\n",
       "      <td>11:57:40</td>\n",
       "    </tr>\n",
       "    <tr>\n",
       "      <th>2</th>\n",
       "      <td>3</td>\n",
       "      <td>2</td>\n",
       "      <td>five_cheese_l</td>\n",
       "      <td>1</td>\n",
       "      <td>five_cheese</td>\n",
       "      <td>L</td>\n",
       "      <td>18.50</td>\n",
       "      <td>The Five Cheese Pizza</td>\n",
       "      <td>Veggie</td>\n",
       "      <td>Mozzarella Cheese, Provolone Cheese, Smoked Go...</td>\n",
       "      <td>2015-01-01</td>\n",
       "      <td>11:57:40</td>\n",
       "    </tr>\n",
       "    <tr>\n",
       "      <th>3</th>\n",
       "      <td>4</td>\n",
       "      <td>2</td>\n",
       "      <td>ital_supr_l</td>\n",
       "      <td>1</td>\n",
       "      <td>ital_supr</td>\n",
       "      <td>L</td>\n",
       "      <td>20.75</td>\n",
       "      <td>The Italian Supreme Pizza</td>\n",
       "      <td>Supreme</td>\n",
       "      <td>Calabrese Salami, Capocollo, Tomatoes, Red Oni...</td>\n",
       "      <td>2015-01-01</td>\n",
       "      <td>11:57:40</td>\n",
       "    </tr>\n",
       "    <tr>\n",
       "      <th>4</th>\n",
       "      <td>5</td>\n",
       "      <td>2</td>\n",
       "      <td>mexicana_m</td>\n",
       "      <td>1</td>\n",
       "      <td>mexicana</td>\n",
       "      <td>M</td>\n",
       "      <td>16.00</td>\n",
       "      <td>The Mexicana Pizza</td>\n",
       "      <td>Veggie</td>\n",
       "      <td>Tomatoes, Red Peppers, Jalapeno Peppers, Red O...</td>\n",
       "      <td>2015-01-01</td>\n",
       "      <td>11:57:40</td>\n",
       "    </tr>\n",
       "  </tbody>\n",
       "</table>\n",
       "</div>"
      ],
      "text/plain": [
       "   order_details_id  order_id       pizza_id  quantity pizza_type_id size  \\\n",
       "0                 1         1     hawaiian_m         1      hawaiian    M   \n",
       "1                 2         2  classic_dlx_m         1   classic_dlx    M   \n",
       "2                 3         2  five_cheese_l         1   five_cheese    L   \n",
       "3                 4         2    ital_supr_l         1     ital_supr    L   \n",
       "4                 5         2     mexicana_m         1      mexicana    M   \n",
       "\n",
       "   price                       name category  \\\n",
       "0  13.25         The Hawaiian Pizza  Classic   \n",
       "1  16.00   The Classic Deluxe Pizza  Classic   \n",
       "2  18.50      The Five Cheese Pizza   Veggie   \n",
       "3  20.75  The Italian Supreme Pizza  Supreme   \n",
       "4  16.00         The Mexicana Pizza   Veggie   \n",
       "\n",
       "                                         ingredients        date      time  \n",
       "0           Sliced Ham, Pineapple, Mozzarella Cheese  2015-01-01  11:38:36  \n",
       "1  Pepperoni, Mushrooms, Red Onions, Red Peppers,...  2015-01-01  11:57:40  \n",
       "2  Mozzarella Cheese, Provolone Cheese, Smoked Go...  2015-01-01  11:57:40  \n",
       "3  Calabrese Salami, Capocollo, Tomatoes, Red Oni...  2015-01-01  11:57:40  \n",
       "4  Tomatoes, Red Peppers, Jalapeno Peppers, Red O...  2015-01-01  11:57:40  "
      ]
     },
     "metadata": {},
     "output_type": "display_data"
    }
   ],
   "source": [
    "\n",
    "df = details.copy()\n",
    "# merge pizzas\n",
    "if 'pizza_id' in df.columns and 'pizza_id' in pizzas.columns:\n",
    "    df = df.merge(pizzas, on='pizza_id', how='left', suffixes=('','_pizza'))\n",
    "# merge types\n",
    "if 'pizza_type_id' in df.columns and 'pizza_type_id' in types.columns:\n",
    "    df = df.merge(types, on='pizza_type_id', how='left', suffixes=('','_type'))\n",
    "# merge orders\n",
    "if 'order_id' in df.columns and 'order_id' in orders.columns:\n",
    "    df = df.merge(orders, on='order_id', how='left', suffixes=('','_order'))\n",
    "\n",
    "print('Merged df shape:', df.shape)\n",
    "display(df.head())\n"
   ]
  },
  {
   "cell_type": "markdown",
   "id": "3f61ba68",
   "metadata": {},
   "source": [
    "## Datetime parsing and feature engineering\n",
    "Create `order_datetime`, `order_hour`, `order_weekday`, and `order_month` for time-based analysis."
   ]
  },
  {
   "cell_type": "code",
   "execution_count": 6,
   "id": "b979e444",
   "metadata": {},
   "outputs": [
    {
     "data": {
      "text/html": [
       "<div>\n",
       "<style scoped>\n",
       "    .dataframe tbody tr th:only-of-type {\n",
       "        vertical-align: middle;\n",
       "    }\n",
       "\n",
       "    .dataframe tbody tr th {\n",
       "        vertical-align: top;\n",
       "    }\n",
       "\n",
       "    .dataframe thead th {\n",
       "        text-align: right;\n",
       "    }\n",
       "</style>\n",
       "<table border=\"1\" class=\"dataframe\">\n",
       "  <thead>\n",
       "    <tr style=\"text-align: right;\">\n",
       "      <th></th>\n",
       "      <th>order_id</th>\n",
       "      <th>pizza_id</th>\n",
       "      <th>name</th>\n",
       "      <th>price</th>\n",
       "      <th>quantity</th>\n",
       "      <th>order_datetime</th>\n",
       "    </tr>\n",
       "  </thead>\n",
       "  <tbody>\n",
       "    <tr>\n",
       "      <th>0</th>\n",
       "      <td>1</td>\n",
       "      <td>hawaiian_m</td>\n",
       "      <td>The Hawaiian Pizza</td>\n",
       "      <td>13.25</td>\n",
       "      <td>1</td>\n",
       "      <td>2015-01-01 11:38:36</td>\n",
       "    </tr>\n",
       "    <tr>\n",
       "      <th>1</th>\n",
       "      <td>2</td>\n",
       "      <td>classic_dlx_m</td>\n",
       "      <td>The Classic Deluxe Pizza</td>\n",
       "      <td>16.00</td>\n",
       "      <td>1</td>\n",
       "      <td>2015-01-01 11:57:40</td>\n",
       "    </tr>\n",
       "    <tr>\n",
       "      <th>2</th>\n",
       "      <td>2</td>\n",
       "      <td>five_cheese_l</td>\n",
       "      <td>The Five Cheese Pizza</td>\n",
       "      <td>18.50</td>\n",
       "      <td>1</td>\n",
       "      <td>2015-01-01 11:57:40</td>\n",
       "    </tr>\n",
       "    <tr>\n",
       "      <th>3</th>\n",
       "      <td>2</td>\n",
       "      <td>ital_supr_l</td>\n",
       "      <td>The Italian Supreme Pizza</td>\n",
       "      <td>20.75</td>\n",
       "      <td>1</td>\n",
       "      <td>2015-01-01 11:57:40</td>\n",
       "    </tr>\n",
       "    <tr>\n",
       "      <th>4</th>\n",
       "      <td>2</td>\n",
       "      <td>mexicana_m</td>\n",
       "      <td>The Mexicana Pizza</td>\n",
       "      <td>16.00</td>\n",
       "      <td>1</td>\n",
       "      <td>2015-01-01 11:57:40</td>\n",
       "    </tr>\n",
       "  </tbody>\n",
       "</table>\n",
       "</div>"
      ],
      "text/plain": [
       "   order_id       pizza_id                       name  price  quantity  \\\n",
       "0         1     hawaiian_m         The Hawaiian Pizza  13.25         1   \n",
       "1         2  classic_dlx_m   The Classic Deluxe Pizza  16.00         1   \n",
       "2         2  five_cheese_l      The Five Cheese Pizza  18.50         1   \n",
       "3         2    ital_supr_l  The Italian Supreme Pizza  20.75         1   \n",
       "4         2     mexicana_m         The Mexicana Pizza  16.00         1   \n",
       "\n",
       "       order_datetime  \n",
       "0 2015-01-01 11:38:36  \n",
       "1 2015-01-01 11:57:40  \n",
       "2 2015-01-01 11:57:40  \n",
       "3 2015-01-01 11:57:40  \n",
       "4 2015-01-01 11:57:40  "
      ]
     },
     "metadata": {},
     "output_type": "display_data"
    }
   ],
   "source": [
    "\n",
    "# Create order_datetime from date and time if present\n",
    "if 'date' in df.columns and 'time' in df.columns:\n",
    "    df['order_datetime'] = pd.to_datetime(df['date'].astype(str) + ' ' + df['time'].astype(str), errors='coerce')\n",
    "else:\n",
    "    # try to find any date-like column\n",
    "    date_cols = [c for c in df.columns if 'date' in c or 'time' in c or 'datetime' in c]\n",
    "    if date_cols:\n",
    "        df['order_datetime'] = pd.to_datetime(df[date_cols[0]], errors='coerce')\n",
    "    else:\n",
    "        df['order_datetime'] = pd.NaT\n",
    "\n",
    "df['order_hour'] = df['order_datetime'].dt.hour\n",
    "df['order_weekday'] = df['order_datetime'].dt.day_name()\n",
    "df['order_month'] = df['order_datetime'].dt.to_period('M').astype(str)\n",
    "\n",
    "display(df[['order_id','pizza_id','name','price','quantity','order_datetime']].head())\n"
   ]
  },
  {
   "cell_type": "markdown",
   "id": "756fff78",
   "metadata": {},
   "source": [
    "## Compute revenue and ensure numeric types\n",
    "Compute `line_revenue = price * quantity` and fix types."
   ]
  },
  {
   "cell_type": "code",
   "execution_count": 7,
   "id": "35e6e9e5",
   "metadata": {},
   "outputs": [
    {
     "data": {
      "text/markdown": [
       "- **Total revenue:** $817,860.05"
      ],
      "text/plain": [
       "<IPython.core.display.Markdown object>"
      ]
     },
     "metadata": {},
     "output_type": "display_data"
    },
    {
     "data": {
      "text/markdown": [
       "- **Total quantity sold:** 49574"
      ],
      "text/plain": [
       "<IPython.core.display.Markdown object>"
      ]
     },
     "metadata": {},
     "output_type": "display_data"
    },
    {
     "data": {
      "text/markdown": [
       "- **Total orders:** 21350"
      ],
      "text/plain": [
       "<IPython.core.display.Markdown object>"
      ]
     },
     "metadata": {},
     "output_type": "display_data"
    },
    {
     "data": {
      "text/markdown": [
       "- **Number of pizza types:** 32"
      ],
      "text/plain": [
       "<IPython.core.display.Markdown object>"
      ]
     },
     "metadata": {},
     "output_type": "display_data"
    },
    {
     "data": {
      "text/markdown": [
       "- **Average pizza price:** $16.49"
      ],
      "text/plain": [
       "<IPython.core.display.Markdown object>"
      ]
     },
     "metadata": {},
     "output_type": "display_data"
    }
   ],
   "source": [
    "\n",
    "# Ensure numeric columns\n",
    "if 'price' in df.columns:\n",
    "    df['price'] = pd.to_numeric(df['price'], errors='coerce')\n",
    "if 'quantity' in df.columns:\n",
    "    df['quantity'] = pd.to_numeric(df['quantity'], errors='coerce').fillna(0).astype(int)\n",
    "\n",
    "# Compute revenue\n",
    "df['line_revenue'] = df['price'].fillna(0) * df['quantity']\n",
    "\n",
    "# Quick summary\n",
    "total_revenue = df['line_revenue'].sum()\n",
    "total_quantity = int(df['quantity'].sum())\n",
    "total_orders = int(df['order_id'].nunique())\n",
    "num_pizza_types = int(types.shape[0])\n",
    "avg_price = float(df['price'].mean()) if 'price' in df.columns else float('nan')\n",
    "\n",
    "display(Markdown(f\"- **Total revenue:** ${total_revenue:,.2f}\"))\n",
    "display(Markdown(f\"- **Total quantity sold:** {total_quantity}\"))\n",
    "display(Markdown(f\"- **Total orders:** {total_orders}\"))\n",
    "display(Markdown(f\"- **Number of pizza types:** {num_pizza_types}\"))\n",
    "display(Markdown(f\"- **Average pizza price:** ${avg_price:.2f}\"))\n"
   ]
  },
  {
   "cell_type": "markdown",
   "id": "683417e4",
   "metadata": {},
   "source": [
    "## Peak hours and hourly revenue\n",
    "Plot revenue by hour and find peak hours."
   ]
  },
  {
   "cell_type": "code",
   "execution_count": 8,
   "id": "192817bf",
   "metadata": {},
   "outputs": [
    {
     "data": {
      "image/png": "[encoded data removed]",
      "text/plain": [
       "<Figure size 1000x500 with 1 Axes>"
      ]
     },
     "metadata": {},
     "output_type": "display_data"
    },
    {
     "data": {
      "text/markdown": [
       "**Top 3 hours by revenue:**"
      ],
      "text/plain": [
       "<IPython.core.display.Markdown object>"
      ]
     },
     "metadata": {},
     "output_type": "display_data"
    },
    {
     "data": {
      "text/plain": [
       "order_hour\n",
       "12    111877.90\n",
       "13    106065.70\n",
       "18     89296.85\n",
       "Name: line_revenue, dtype: float64"
      ]
     },
     "metadata": {},
     "output_type": "display_data"
    }
   ],
   "source": [
    "\n",
    "rev_by_hour = df.groupby('order_hour', dropna=True)['line_revenue'].sum().sort_index()\n",
    "# plot\n",
    "ax = rev_by_hour.plot(kind='bar', title='Revenue by Hour', xlabel='Hour', ylabel='Revenue')\n",
    "plt.tight_layout()\n",
    "plt.savefig(OUT_PLOTS / 'revenue_by_hour.png')\n",
    "plt.show()\n",
    "\n",
    "# show top 3 peak hours\n",
    "top_hours = rev_by_hour.sort_values(ascending=False).head(3)\n",
    "display(Markdown('**Top 3 hours by revenue:**'))\n",
    "display(top_hours)\n"
   ]
  },
  {
   "cell_type": "markdown",
   "id": "e9eebb1b",
   "metadata": {},
   "source": [
    "## Sales by day of week\n",
    "Compute total sales per weekday and identify the best day."
   ]
  },
  {
   "cell_type": "code",
   "execution_count": 9,
   "id": "484a1e5b",
   "metadata": {},
   "outputs": [
    {
     "data": {
      "image/png": "[encoded data removed]",
      "text/plain": [
       "<Figure size 1000x500 with 1 Axes>"
      ]
     },
     "metadata": {},
     "output_type": "display_data"
    },
    {
     "data": {
      "text/markdown": [
       "**Best day by revenue:** Friday"
      ],
      "text/plain": [
       "<IPython.core.display.Markdown object>"
      ]
     },
     "metadata": {},
     "output_type": "display_data"
    }
   ],
   "source": [
    "\n",
    "rev_by_weekday = df.groupby('order_weekday', dropna=True)['line_revenue'].sum()\n",
    "weekdays = ['Monday','Tuesday','Wednesday','Thursday','Friday','Saturday','Sunday']\n",
    "rev_by_weekday = rev_by_weekday.reindex(weekdays).fillna(0)\n",
    "\n",
    "ax = rev_by_weekday.plot(kind='bar', title='Revenue by Weekday', xlabel='Weekday', ylabel='Revenue')\n",
    "plt.xticks(rotation=45)\n",
    "plt.tight_layout()\n",
    "plt.savefig(OUT_PLOTS / 'revenue_by_weekday.png')\n",
    "plt.show()\n",
    "\n",
    "best_day = rev_by_weekday.idxmax()\n",
    "display(Markdown(f\"**Best day by revenue:** {best_day}\"))\n"
   ]
  },
  {
   "cell_type": "markdown",
   "id": "fb8fbae3",
   "metadata": {},
   "source": [
    "## Top 5 bestselling pizzas\n",
    "Find the top 5 pizzas by quantity sold."
   ]
  },
  {
   "cell_type": "code",
   "execution_count": 10,
   "id": "fb774947",
   "metadata": {},
   "outputs": [
    {
     "data": {
      "image/png": "[encoded data removed]",
      "text/plain": [
       "<Figure size 1000x500 with 1 Axes>"
      ]
     },
     "metadata": {},
     "output_type": "display_data"
    },
    {
     "data": {
      "text/plain": [
       "name\n",
       "The Classic Deluxe Pizza        2453\n",
       "The Barbecue Chicken Pizza      2432\n",
       "The Hawaiian Pizza              2422\n",
       "The Pepperoni Pizza             2418\n",
       "The Thai Chicken Pizza          2371\n",
       "The California Chicken Pizza    2370\n",
       "The Sicilian Pizza              1938\n",
       "The Spicy Italian Pizza         1924\n",
       "The Southwest Chicken Pizza     1917\n",
       "The Big Meat Pizza              1914\n",
       "Name: quantity, dtype: int64"
      ]
     },
     "metadata": {},
     "output_type": "display_data"
    }
   ],
   "source": [
    "\n",
    "top5 = df.groupby('name')['quantity'].sum().sort_values(ascending=False).head(10)\n",
    "ax = top5.head(5).plot(kind='bar', title='Top 5 Pizzas by Quantity Sold', ylabel='Quantity Sold')\n",
    "plt.tight_layout()\n",
    "plt.savefig(OUT_PLOTS / 'top5_pizzas.png')\n",
    "plt.show()\n",
    "\n",
    "display(top5.head(10))\n"
   ]
  },
  {
   "cell_type": "markdown",
   "id": "7303134b",
   "metadata": {},
   "source": [
    "## Sales by month (trend)\n",
    "Plot month-over-month revenue to look for trends."
   ]
  },
  {
   "cell_type": "code",
   "execution_count": 11,
   "id": "c8502f5e",
   "metadata": {},
   "outputs": [
    {
     "data": {
      "image/png": "[encoded data removed]",
      "text/plain": [
       "<Figure size 1000x500 with 1 Axes>"
      ]
     },
     "metadata": {},
     "output_type": "display_data"
    },
    {
     "data": {
      "text/plain": [
       "order_month\n",
       "2015-01    69793.30\n",
       "2015-02    65159.60\n",
       "2015-03    70397.10\n",
       "2015-04    68736.80\n",
       "2015-05    71402.75\n",
       "2015-06    68230.20\n",
       "2015-07    72557.90\n",
       "2015-08    68278.25\n",
       "2015-09    64180.05\n",
       "2015-10    64027.60\n",
       "2015-11    70395.35\n",
       "2015-12    64701.15\n",
       "Name: line_revenue, dtype: float64"
      ]
     },
     "metadata": {},
     "output_type": "display_data"
    }
   ],
   "source": [
    "\n",
    "rev_by_month = df.groupby('order_month')['line_revenue'].sum().sort_index()\n",
    "ax = rev_by_month.plot(kind='line', marker='o', title='Revenue by Month', xlabel='Month', ylabel='Revenue')\n",
    "plt.xticks(rotation=45)\n",
    "plt.tight_layout()\n",
    "plt.savefig(OUT_PLOTS / 'revenue_by_month.png')\n",
    "plt.show()\n",
    "\n",
    "display(rev_by_month)\n"
   ]
  },
  {
   "cell_type": "markdown",
   "id": "f3451d25",
   "metadata": {},
   "source": [
    "## Underperforming pizza types\n",
    "Identify pizza types contributing less than a chosen percentage of total revenue (default 5%)."
   ]
  },
  {
   "cell_type": "code",
   "execution_count": 12,
   "id": "3ea24866",
   "metadata": {},
   "outputs": [
    {
     "data": {
      "text/markdown": [
       "### Sales by pizza type (top 20)"
      ],
      "text/plain": [
       "<IPython.core.display.Markdown object>"
      ]
     },
     "metadata": {},
     "output_type": "display_data"
    },
    {
     "data": {
      "text/plain": [
       "category\n",
       "Classic    26.91\n",
       "Supreme    25.46\n",
       "Chicken    23.96\n",
       "Veggie     23.68\n",
       "Name: line_revenue, dtype: float64"
      ]
     },
     "metadata": {},
     "output_type": "display_data"
    },
    {
     "data": {
      "text/markdown": [
       "### Underperforming types (< 5.0% revenue)"
      ],
      "text/plain": [
       "<IPython.core.display.Markdown object>"
      ]
     },
     "metadata": {},
     "output_type": "display_data"
    },
    {
     "data": {
      "text/plain": [
       "Series([], Name: line_revenue, dtype: float64)"
      ]
     },
     "metadata": {},
     "output_type": "display_data"
    }
   ],
   "source": [
    "\n",
    "# Determine a reasonable type name column\n",
    "candidates = ['pizza_type', 'category', 'name_type', 'type', 'pizza_type_name', 'pizza_type_id']\n",
    "type_col = next((c for c in candidates if c in df.columns), None)\n",
    "if type_col is None:\n",
    "    type_col = 'pizza_type_id' if 'pizza_type_id' in df.columns else df.columns[-1]\n",
    "\n",
    "sales_by_type = df.groupby(type_col)['line_revenue'].sum().sort_values(ascending=False)\n",
    "sales_by_type_pct = (sales_by_type / total_revenue * 100).round(2)\n",
    "threshold = 5.0\n",
    "underperform = sales_by_type_pct[sales_by_type_pct < threshold]\n",
    "\n",
    "display(Markdown('### Sales by pizza type (top 20)'))\n",
    "display(sales_by_type_pct.head(20))\n",
    "\n",
    "display(Markdown(f'### Underperforming types (< {threshold}% revenue)'))\n",
    "display(underperform.sort_values())\n"
   ]
  },
  {
   "cell_type": "markdown",
   "id": "c11f9299",
   "metadata": {},
   "source": [
    "## Additional exploration\n",
    "Heatmap of revenue by weekday vs hour and a price distribution plot."
   ]
  },
  {
   "cell_type": "code",
   "execution_count": 15,
   "id": "c93bf877",
   "metadata": {},
   "outputs": [
    {
     "data": {
      "image/png": "[encoded data removed]",
      "text/plain": [
       "<Figure size 1200x500 with 2 Axes>"
      ]
     },
     "metadata": {},
     "output_type": "display_data"
    },
    {
     "data": {
      "image/png": "[encoded data removed]",
      "text/plain": [
       "<Figure size 800x400 with 1 Axes>"
      ]
     },
     "metadata": {},
     "output_type": "display_data"
    }
   ],
   "source": [
    "\n",
    "# Heatmap pivot: weekday x hour\n",
    "pivot = df.pivot_table(index='order_weekday', columns='order_hour', values='line_revenue', aggfunc='sum').reindex(weekdays)\n",
    "pivot = pivot.fillna(0)\n",
    "\n",
    "plt.figure(figsize=(12,5))\n",
    "plt.imshow(pivot, aspect='auto', interpolation='nearest')\n",
    "plt.colorbar(label='Revenue')\n",
    "plt.yticks(range(len(pivot.index)), pivot.index)\n",
    "plt.xticks(range(0,24), range(0,24))\n",
    "plt.xlabel('Hour of day')\n",
    "plt.ylabel('Weekday')\n",
    "plt.title('Heatmap: Revenue by Weekday and Hour')\n",
    "plt.tight_layout()\n",
    "plt.savefig(OUT_PLOTS / 'heatmap_weekday_hour.png')\n",
    "plt.show()\n",
    "\n",
    "# Price distribution\n",
    "if 'price' in df.columns:\n",
    "    plt.figure(figsize=(8,4))\n",
    "    df['price'].dropna().plot(kind='hist', bins=30)\n",
    "    plt.title('Price distribution of pizzas (unit price)')\n",
    "    plt.xlabel('Price')\n",
    "    plt.tight_layout()\n",
    "    plt.savefig(OUT_PLOTS / 'price_distribution.png')\n",
    "    plt.show()\n"
   ]
  },
  {
   "cell_type": "markdown",
   "id": "1a3bbeb7-01ed-43c4-8011-880241669065",
   "metadata": {},
   "source": [
    "## Conclusions & next steps\n",
    "- Summarize findings (revenue, peak hours, top pizzas, underperformers).\n",
    "- Consider promotions for underperforming types, staff scheduling for peak hours, and menu optimization."
   ]
  }
 ],
 "metadata": {
  "kernelspec": {
   "display_name": "Python 3 (ipykernel)",
   "language": "python",
   "name": "python3"
  },
  "language_info": {
   "codemirror_mode": {
    "name": "ipython",
    "version": 3
   },
   "file_extension": ".py",
   "mimetype": "text/x-python",
   "name": "python",
   "nbconvert_exporter": "python",
   "pygments_lexer": "ipython3",
   "version": "3.13.5"
  }
 },
 "nbformat": 4,
 "nbformat_minor": 5
}
